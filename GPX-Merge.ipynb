{
 "cells": [
  {
   "cell_type": "code",
   "execution_count": 1,
   "metadata": {},
   "outputs": [],
   "source": [
    "import gpxpy\n",
    "import gpxpy.gpx\n",
    "\n",
    "from os import listdir\n",
    "from os.path import isfile, join"
   ]
  },
  {
   "cell_type": "code",
   "execution_count": 17,
   "metadata": {},
   "outputs": [
    {
     "name": "stdout",
     "output_type": "stream",
     "text": [
      "Found 99 GPX Files\n"
     ]
    }
   ],
   "source": [
    "GPX_PATH = \"data\"\n",
    "GPX_EXTENSION = \".gpx\"\n",
    "OUTPUT_PATH = \"output\"\n",
    "OUTPUT_NAME = \"merged.gpx\"\n",
    "\n",
    "fileList = []\n",
    "\n",
    "for f in listdir(GPX_PATH):\n",
    "    path = join(GPX_PATH, f)\n",
    "    if isfile(path) & path.endswith(GPX_EXTENSION):\n",
    "        fileList.append(path)\n",
    "        \n",
    "print(\"Found %d GPX Files\" % len(fileList))\n",
    "\n",
    "\n",
    "mergedGpx = gpxpy.gpx.GPX()\n",
    "\n",
    "for f in fileList:\n",
    "    gpxFile = open(f)\n",
    "    gpx = gpxpy.parse(gpxFile)\n",
    "    for track in gpx.tracks:\n",
    "        mergedGpx.tracks.append(track)\n",
    "    gpxFile.close()\n",
    "        \n",
    "        \n",
    "mergedFile = open(join(OUTPUT_PATH, OUTPUT_NAME), \"w\")\n",
    "mergedFile.write(mergedGpx.to_xml())\n",
    "mergedFile.close()"
   ]
  }
 ],
 "metadata": {
  "kernelspec": {
   "display_name": "Python 3",
   "language": "python",
   "name": "python3"
  },
  "language_info": {
   "codemirror_mode": {
    "name": "ipython",
    "version": 3
   },
   "file_extension": ".py",
   "mimetype": "text/x-python",
   "name": "python",
   "nbconvert_exporter": "python",
   "pygments_lexer": "ipython3",
   "version": "3.6.5"
  }
 },
 "nbformat": 4,
 "nbformat_minor": 2
}
